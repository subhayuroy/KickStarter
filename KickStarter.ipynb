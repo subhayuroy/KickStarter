{
  "nbformat": 4,
  "nbformat_minor": 0,
  "metadata": {
    "colab": {
      "name": "KickStarter.ipynb",
      "provenance": [],
      "authorship_tag": "ABX9TyM/OE77jYRdQ1MlXqMKTryW",
      "include_colab_link": true
    },
    "kernelspec": {
      "name": "python3",
      "display_name": "Python 3"
    }
  },
  "cells": [
    {
      "cell_type": "markdown",
      "metadata": {
        "id": "view-in-github",
        "colab_type": "text"
      },
      "source": [
        "<a href=\"https://colab.research.google.com/github/subhayuroy/KickStarter/blob/master/KickStarter.ipynb\" target=\"_parent\"><img src=\"https://colab.research.google.com/assets/colab-badge.svg\" alt=\"Open In Colab\"/></a>"
      ]
    },
    {
      "cell_type": "markdown",
      "metadata": {
        "id": "7HvIDGbONtcn",
        "colab_type": "text"
      },
      "source": [
        "Using Feature Engineering to work with data from KickStarter projects. The first few rows of the data looks like this:"
      ]
    },
    {
      "cell_type": "code",
      "metadata": {
        "id": "X_3oXmveKffr",
        "colab_type": "code",
        "colab": {
          "base_uri": "https://localhost:8080/",
          "height": 530
        },
        "outputId": "901c444b-1063-49d1-c8bd-7336b4d3ea1b"
      },
      "source": [
        "import pandas as pd\n",
        "\n",
        "ks = pd.read_csv('ks-projects-201801.csv', parse_dates=['deadline', 'launched'])\n",
        "ks.head(6)"
      ],
      "execution_count": null,
      "outputs": [
        {
          "output_type": "execute_result",
          "data": {
            "text/html": [
              "<div>\n",
              "<style scoped>\n",
              "    .dataframe tbody tr th:only-of-type {\n",
              "        vertical-align: middle;\n",
              "    }\n",
              "\n",
              "    .dataframe tbody tr th {\n",
              "        vertical-align: top;\n",
              "    }\n",
              "\n",
              "    .dataframe thead th {\n",
              "        text-align: right;\n",
              "    }\n",
              "</style>\n",
              "<table border=\"1\" class=\"dataframe\">\n",
              "  <thead>\n",
              "    <tr style=\"text-align: right;\">\n",
              "      <th></th>\n",
              "      <th>ID</th>\n",
              "      <th>name</th>\n",
              "      <th>category</th>\n",
              "      <th>main_category</th>\n",
              "      <th>currency</th>\n",
              "      <th>deadline</th>\n",
              "      <th>goal</th>\n",
              "      <th>launched</th>\n",
              "      <th>pledged</th>\n",
              "      <th>state</th>\n",
              "      <th>backers</th>\n",
              "      <th>country</th>\n",
              "      <th>usd pledged</th>\n",
              "      <th>usd_pledged_real</th>\n",
              "      <th>usd_goal_real</th>\n",
              "    </tr>\n",
              "  </thead>\n",
              "  <tbody>\n",
              "    <tr>\n",
              "      <th>0</th>\n",
              "      <td>1000002330</td>\n",
              "      <td>The Songs of Adelaide &amp; Abullah</td>\n",
              "      <td>Poetry</td>\n",
              "      <td>Publishing</td>\n",
              "      <td>GBP</td>\n",
              "      <td>2015-10-09</td>\n",
              "      <td>1000.0</td>\n",
              "      <td>2015-08-11 12:12:28</td>\n",
              "      <td>0.0</td>\n",
              "      <td>failed</td>\n",
              "      <td>0</td>\n",
              "      <td>GB</td>\n",
              "      <td>0.0</td>\n",
              "      <td>0.0</td>\n",
              "      <td>1533.95</td>\n",
              "    </tr>\n",
              "    <tr>\n",
              "      <th>1</th>\n",
              "      <td>1000003930</td>\n",
              "      <td>Greeting From Earth: ZGAC Arts Capsule For ET</td>\n",
              "      <td>Narrative Film</td>\n",
              "      <td>Film &amp; Video</td>\n",
              "      <td>USD</td>\n",
              "      <td>2017-11-01</td>\n",
              "      <td>30000.0</td>\n",
              "      <td>2017-09-02 04:43:57</td>\n",
              "      <td>2421.0</td>\n",
              "      <td>failed</td>\n",
              "      <td>15</td>\n",
              "      <td>US</td>\n",
              "      <td>100.0</td>\n",
              "      <td>2421.0</td>\n",
              "      <td>30000.00</td>\n",
              "    </tr>\n",
              "    <tr>\n",
              "      <th>2</th>\n",
              "      <td>1000004038</td>\n",
              "      <td>Where is Hank?</td>\n",
              "      <td>Narrative Film</td>\n",
              "      <td>Film &amp; Video</td>\n",
              "      <td>USD</td>\n",
              "      <td>2013-02-26</td>\n",
              "      <td>45000.0</td>\n",
              "      <td>2013-01-12 00:20:50</td>\n",
              "      <td>220.0</td>\n",
              "      <td>failed</td>\n",
              "      <td>3</td>\n",
              "      <td>US</td>\n",
              "      <td>220.0</td>\n",
              "      <td>220.0</td>\n",
              "      <td>45000.00</td>\n",
              "    </tr>\n",
              "    <tr>\n",
              "      <th>3</th>\n",
              "      <td>1000007540</td>\n",
              "      <td>ToshiCapital Rekordz Needs Help to Complete Album</td>\n",
              "      <td>Music</td>\n",
              "      <td>Music</td>\n",
              "      <td>USD</td>\n",
              "      <td>2012-04-16</td>\n",
              "      <td>5000.0</td>\n",
              "      <td>2012-03-17 03:24:11</td>\n",
              "      <td>1.0</td>\n",
              "      <td>failed</td>\n",
              "      <td>1</td>\n",
              "      <td>US</td>\n",
              "      <td>1.0</td>\n",
              "      <td>1.0</td>\n",
              "      <td>5000.00</td>\n",
              "    </tr>\n",
              "    <tr>\n",
              "      <th>4</th>\n",
              "      <td>1000011046</td>\n",
              "      <td>Community Film Project: The Art of Neighborhoo...</td>\n",
              "      <td>Film &amp; Video</td>\n",
              "      <td>Film &amp; Video</td>\n",
              "      <td>USD</td>\n",
              "      <td>2015-08-29</td>\n",
              "      <td>19500.0</td>\n",
              "      <td>2015-07-04 08:35:03</td>\n",
              "      <td>1283.0</td>\n",
              "      <td>canceled</td>\n",
              "      <td>14</td>\n",
              "      <td>US</td>\n",
              "      <td>1283.0</td>\n",
              "      <td>1283.0</td>\n",
              "      <td>19500.00</td>\n",
              "    </tr>\n",
              "    <tr>\n",
              "      <th>5</th>\n",
              "      <td>1000014025</td>\n",
              "      <td>Monarch Espresso Bar</td>\n",
              "      <td>Restaurants</td>\n",
              "      <td>Food</td>\n",
              "      <td>USD</td>\n",
              "      <td>2016-04-01</td>\n",
              "      <td>50000.0</td>\n",
              "      <td>2016-02-26 13:38:27</td>\n",
              "      <td>52375.0</td>\n",
              "      <td>successful</td>\n",
              "      <td>224</td>\n",
              "      <td>US</td>\n",
              "      <td>52375.0</td>\n",
              "      <td>52375.0</td>\n",
              "      <td>50000.00</td>\n",
              "    </tr>\n",
              "  </tbody>\n",
              "</table>\n",
              "</div>"
            ],
            "text/plain": [
              "           ID  ... usd_goal_real\n",
              "0  1000002330  ...       1533.95\n",
              "1  1000003930  ...      30000.00\n",
              "2  1000004038  ...      45000.00\n",
              "3  1000007540  ...       5000.00\n",
              "4  1000011046  ...      19500.00\n",
              "5  1000014025  ...      50000.00\n",
              "\n",
              "[6 rows x 15 columns]"
            ]
          },
          "metadata": {
            "tags": []
          },
          "execution_count": 2
        }
      ]
    },
    {
      "cell_type": "markdown",
      "metadata": {
        "id": "Dnpvh5DDOaKV",
        "colab_type": "text"
      },
      "source": [
        "The *state* column shows the outcome of the project"
      ]
    },
    {
      "cell_type": "code",
      "metadata": {
        "id": "8Dp7Z326Oggd",
        "colab_type": "code",
        "colab": {
          "base_uri": "https://localhost:8080/",
          "height": 34
        },
        "outputId": "873b320b-9814-446c-a64c-049dc6f5843c"
      },
      "source": [
        "print(\"Unique values in `state` column: \", list(ks.state.unique()))"
      ],
      "execution_count": null,
      "outputs": [
        {
          "output_type": "stream",
          "text": [
            "Unique values in `state` column:  ['failed', 'canceled', 'successful', 'live', 'undefined', 'suspended']\n"
          ],
          "name": "stdout"
        }
      ]
    },
    {
      "cell_type": "markdown",
      "metadata": {
        "id": "P9BB0ZnOPYn1",
        "colab_type": "text"
      },
      "source": [
        "**Prepare the target column**"
      ]
    },
    {
      "cell_type": "code",
      "metadata": {
        "id": "_5S6pCkAPdcP",
        "colab_type": "code",
        "colab": {}
      },
      "source": [
        "#Drop live projects\n",
        "ks = ks.query('state != \"live\"')\n",
        "\n",
        "# Add outcome column, \"successful\" == 1, others are 0\n",
        "ks = ks.assign(outcome=(ks['state'] == 'successful').astype(int))"
      ],
      "execution_count": null,
      "outputs": []
    },
    {
      "cell_type": "markdown",
      "metadata": {
        "id": "7EY0ZMzrQUkz",
        "colab_type": "text"
      },
      "source": [
        "**Convert timestamps**"
      ]
    },
    {
      "cell_type": "code",
      "metadata": {
        "id": "F_QKEcdyQXcR",
        "colab_type": "code",
        "colab": {}
      },
      "source": [
        "ks = ks.assign(hour=ks.launched.dt.hour,\n",
        "               day=ks.launched.dt.day,\n",
        "               month=ks.launched.dt.month,\n",
        "               year=ks.launched.dt.year)"
      ],
      "execution_count": null,
      "outputs": []
    },
    {
      "cell_type": "markdown",
      "metadata": {
        "id": "G4BRioKQQ9Y1",
        "colab_type": "text"
      },
      "source": [
        "**Prep categorical values**"
      ]
    },
    {
      "cell_type": "code",
      "metadata": {
        "id": "HptPB9-lRdjV",
        "colab_type": "code",
        "colab": {}
      },
      "source": [
        "from sklearn.preprocessing import LabelEncoder\n",
        "\n",
        "cat_features = ['category', 'currency', 'country']\n",
        "encoder = LabelEncoder()\n",
        "\n",
        "#Apply the LabelEncoder to each column\n",
        "encoded = ks[cat_features].apply(encoder.fit_transform)"
      ],
      "execution_count": null,
      "outputs": []
    },
    {
      "cell_type": "markdown",
      "metadata": {
        "id": "FGA67_sfSq9Z",
        "colab_type": "text"
      },
      "source": [
        "Collecting all of these features in a new dataframe that can be used to train a model."
      ]
    },
    {
      "cell_type": "code",
      "metadata": {
        "id": "u4oEDJsZS09z",
        "colab_type": "code",
        "colab": {
          "base_uri": "https://localhost:8080/",
          "height": 195
        },
        "outputId": "ad678151-f52b-4127-8fc5-d8b917a20ced"
      },
      "source": [
        "# Since ks and encoded have the same index and can easily be joined\n",
        "data = ks[['goal', 'hour', 'day', 'month', 'year', 'outcome']].join(encoded)\n",
        "\n",
        "data.head()"
      ],
      "execution_count": null,
      "outputs": [
        {
          "output_type": "execute_result",
          "data": {
            "text/html": [
              "<div>\n",
              "<style scoped>\n",
              "    .dataframe tbody tr th:only-of-type {\n",
              "        vertical-align: middle;\n",
              "    }\n",
              "\n",
              "    .dataframe tbody tr th {\n",
              "        vertical-align: top;\n",
              "    }\n",
              "\n",
              "    .dataframe thead th {\n",
              "        text-align: right;\n",
              "    }\n",
              "</style>\n",
              "<table border=\"1\" class=\"dataframe\">\n",
              "  <thead>\n",
              "    <tr style=\"text-align: right;\">\n",
              "      <th></th>\n",
              "      <th>goal</th>\n",
              "      <th>hour</th>\n",
              "      <th>day</th>\n",
              "      <th>month</th>\n",
              "      <th>year</th>\n",
              "      <th>outcome</th>\n",
              "      <th>category</th>\n",
              "      <th>currency</th>\n",
              "      <th>country</th>\n",
              "    </tr>\n",
              "  </thead>\n",
              "  <tbody>\n",
              "    <tr>\n",
              "      <th>0</th>\n",
              "      <td>1000.0</td>\n",
              "      <td>12</td>\n",
              "      <td>11</td>\n",
              "      <td>8</td>\n",
              "      <td>2015</td>\n",
              "      <td>0</td>\n",
              "      <td>108</td>\n",
              "      <td>5</td>\n",
              "      <td>9</td>\n",
              "    </tr>\n",
              "    <tr>\n",
              "      <th>1</th>\n",
              "      <td>30000.0</td>\n",
              "      <td>4</td>\n",
              "      <td>2</td>\n",
              "      <td>9</td>\n",
              "      <td>2017</td>\n",
              "      <td>0</td>\n",
              "      <td>93</td>\n",
              "      <td>13</td>\n",
              "      <td>22</td>\n",
              "    </tr>\n",
              "    <tr>\n",
              "      <th>2</th>\n",
              "      <td>45000.0</td>\n",
              "      <td>0</td>\n",
              "      <td>12</td>\n",
              "      <td>1</td>\n",
              "      <td>2013</td>\n",
              "      <td>0</td>\n",
              "      <td>93</td>\n",
              "      <td>13</td>\n",
              "      <td>22</td>\n",
              "    </tr>\n",
              "    <tr>\n",
              "      <th>3</th>\n",
              "      <td>5000.0</td>\n",
              "      <td>3</td>\n",
              "      <td>17</td>\n",
              "      <td>3</td>\n",
              "      <td>2012</td>\n",
              "      <td>0</td>\n",
              "      <td>90</td>\n",
              "      <td>13</td>\n",
              "      <td>22</td>\n",
              "    </tr>\n",
              "    <tr>\n",
              "      <th>4</th>\n",
              "      <td>19500.0</td>\n",
              "      <td>8</td>\n",
              "      <td>4</td>\n",
              "      <td>7</td>\n",
              "      <td>2015</td>\n",
              "      <td>0</td>\n",
              "      <td>55</td>\n",
              "      <td>13</td>\n",
              "      <td>22</td>\n",
              "    </tr>\n",
              "  </tbody>\n",
              "</table>\n",
              "</div>"
            ],
            "text/plain": [
              "      goal  hour  day  month  year  outcome  category  currency  country\n",
              "0   1000.0    12   11      8  2015        0       108         5        9\n",
              "1  30000.0     4    2      9  2017        0        93        13       22\n",
              "2  45000.0     0   12      1  2013        0        93        13       22\n",
              "3   5000.0     3   17      3  2012        0        90        13       22\n",
              "4  19500.0     8    4      7  2015        0        55        13       22"
            ]
          },
          "metadata": {
            "tags": []
          },
          "execution_count": 8
        }
      ]
    },
    {
      "cell_type": "markdown",
      "metadata": {
        "id": "7j8qKjaPTDOr",
        "colab_type": "text"
      },
      "source": [
        "**Create training, validation, and test splits**"
      ]
    },
    {
      "cell_type": "code",
      "metadata": {
        "id": "hvcgu9VSTIVv",
        "colab_type": "code",
        "colab": {}
      },
      "source": [
        "valid_fraction = 0.1\n",
        "valid_size = int(len(data) * valid_fraction)\n",
        "# valid size == test size, last two sections of the data\n",
        "\n",
        "train = data[:-2 * valid_size]\n",
        "valid = data[-2 * valid_size:-valid_size]\n",
        "test = data[-valid_size:]"
      ],
      "execution_count": null,
      "outputs": []
    },
    {
      "cell_type": "markdown",
      "metadata": {
        "id": "bVLTOChxTQh_",
        "colab_type": "text"
      },
      "source": [
        "**Train a model**\n",
        "\n",
        "Using a LightGBM model. This is a tree-based model that typically provides the best performance, even compared to XGBoost. It's also relatively fast to train."
      ]
    },
    {
      "cell_type": "code",
      "metadata": {
        "id": "KgmI2x_lTUCa",
        "colab_type": "code",
        "colab": {}
      },
      "source": [
        "import lightgbm as lgb\n",
        "\n",
        "feature_cols = train.columns.drop('outcome')\n",
        "\n",
        "dtrain = lgb.Dataset(train[feature_cols], label=train['outcome'])\n",
        "dvalid = lgb.Dataset(valid[feature_cols], label=valid['outcome'])\n",
        "\n",
        "param = {'num_leaves': 64, 'objective': 'binary'}\n",
        "param['metric'] = 'auc'\n",
        "num_round = 1000\n",
        "bst = lgb.train(param, dtrain, num_round, valid_sets=[dvalid], early_stopping_rounds=10, verbose_eval=False)"
      ],
      "execution_count": null,
      "outputs": []
    },
    {
      "cell_type": "markdown",
      "metadata": {
        "id": "a_Vj4puKTivg",
        "colab_type": "text"
      },
      "source": [
        "**Make predictions & evaluate the model**"
      ]
    },
    {
      "cell_type": "code",
      "metadata": {
        "id": "RGM0Bxw0TnaP",
        "colab_type": "code",
        "colab": {
          "base_uri": "https://localhost:8080/",
          "height": 34
        },
        "outputId": "ece566a8-7121-487e-c0b7-5a4107a9edb1"
      },
      "source": [
        "from sklearn import metrics\n",
        "ypred = bst.predict(test[feature_cols])\n",
        "score = metrics.roc_auc_score(test['outcome'], ypred)\n",
        "\n",
        "print(f\"Test AUC score: {score}\")"
      ],
      "execution_count": null,
      "outputs": [
        {
          "output_type": "stream",
          "text": [
            "Test AUC score: 0.747615303004287\n"
          ],
          "name": "stdout"
        }
      ]
    },
    {
      "cell_type": "markdown",
      "metadata": {
        "id": "ZEt_R7ummpNG",
        "colab_type": "text"
      },
      "source": [
        "#Categorical Encoding"
      ]
    },
    {
      "cell_type": "code",
      "metadata": {
        "id": "ZNyfZ0HamsLu",
        "colab_type": "code",
        "colab": {}
      },
      "source": [
        "import pandas as pd\n",
        "from sklearn.preprocessing import LabelEncoder\n",
        "\n",
        "ks = pd.read_csv('ks-projects-201801.csv', parse_dates=['deadline', 'launched'])\n",
        "\n",
        "# Drop live projects\n",
        "ks = ks.query('state != \"live\"')\n",
        "\n",
        "# Add outcome column, \"successful\" == 1, others are 0\n",
        "ks = ks.assign(outcome=(ks['state'] == 'successful').astype(int))\n",
        "\n",
        "# Timestamp features\n",
        "ks = ks.assign(hour=ks.launched.dt.hour,\n",
        "               day=ks.launched.dt.day,\n",
        "               month=ks.launched.dt.month,\n",
        "               year=ks.launched.dt.year)\n",
        "\n",
        "# Label encoding\n",
        "cat_features = ['category', 'currency', 'country']\n",
        "encoder = LabelEncoder()\n",
        "encoded = ks[cat_features].apply(encoder.fit_transform)\n",
        "\n",
        "data_cols = ['goal', 'hour', 'day', 'month', 'year', 'outcome']\n",
        "data = ks[data_cols].join(encoded)\n",
        "\n",
        "# Defining  functions that will help us test our encodings\n",
        "import lightgbm as lgb\n",
        "from sklearn import metrics\n",
        "\n",
        "def get_data_splits(dataframe, valid_fraction=0.1):\n",
        "    valid_fraction = 0.1\n",
        "    valid_size = int(len(dataframe) * valid_fraction)\n",
        "\n",
        "    train = dataframe[:-valid_size * 2]\n",
        "    # valid size == test size, last two sections of the data\n",
        "    valid = dataframe[-valid_size * 2:-valid_size]\n",
        "    test = dataframe[-valid_size:]\n",
        "    \n",
        "    return train, valid, test\n",
        "\n",
        "def train_model(train, valid):\n",
        "    feature_cols = train.columns.drop('outcome')\n",
        "\n",
        "    dtrain = lgb.Dataset(train[feature_cols], label=train['outcome'])\n",
        "    dvalid = lgb.Dataset(valid[feature_cols], label=valid['outcome'])\n",
        "\n",
        "    param = {'num_leaves': 64, 'objective': 'binary', \n",
        "             'metric': 'auc', 'seed': 7}\n",
        "    bst = lgb.train(param, dtrain, num_boost_round=1000, valid_sets=[dvalid], \n",
        "                    early_stopping_rounds=10, verbose_eval=False)\n",
        "\n",
        "    valid_pred = bst.predict(valid[feature_cols])\n",
        "    valid_score = metrics.roc_auc_score(valid['outcome'], valid_pred)\n",
        "    print(f\"Validation AUC score: {valid_score:.4f}\")"
      ],
      "execution_count": null,
      "outputs": []
    },
    {
      "cell_type": "code",
      "metadata": {
        "id": "fJQNqf-Lm2WT",
        "colab_type": "code",
        "colab": {
          "base_uri": "https://localhost:8080/",
          "height": 34
        },
        "outputId": "7840d642-620d-47a2-c743-07dd24191055"
      },
      "source": [
        "# Train a model (on the baseline data)\n",
        "train, valid, test = get_data_splits(data)\n",
        "train_model(train, valid)"
      ],
      "execution_count": null,
      "outputs": [
        {
          "output_type": "stream",
          "text": [
            "Validation AUC score: 0.7467\n"
          ],
          "name": "stdout"
        }
      ]
    },
    {
      "cell_type": "markdown",
      "metadata": {
        "id": "Trrz5sfAnBGn",
        "colab_type": "text"
      },
      "source": [
        "**Count Encoding**\n",
        "\n",
        "Count encoding replaces each categorical value with the number of times it appears in the dataset."
      ]
    },
    {
      "cell_type": "code",
      "metadata": {
        "id": "j4av-UEBnasm",
        "colab_type": "code",
        "colab": {
          "base_uri": "https://localhost:8080/",
          "height": 289
        },
        "outputId": "a2d5dac5-e21a-47e9-a8cf-f5630f3a7275"
      },
      "source": [
        "!pip install category_encoders"
      ],
      "execution_count": null,
      "outputs": [
        {
          "output_type": "stream",
          "text": [
            "Collecting category_encoders\n",
            "\u001b[?25l  Downloading https://files.pythonhosted.org/packages/44/57/fcef41c248701ee62e8325026b90c432adea35555cbc870aff9cfba23727/category_encoders-2.2.2-py2.py3-none-any.whl (80kB)\n",
            "\r\u001b[K     |████                            | 10kB 15.0MB/s eta 0:00:01\r\u001b[K     |████████▏                       | 20kB 1.7MB/s eta 0:00:01\r\u001b[K     |████████████▏                   | 30kB 2.3MB/s eta 0:00:01\r\u001b[K     |████████████████▎               | 40kB 2.6MB/s eta 0:00:01\r\u001b[K     |████████████████████▎           | 51kB 2.0MB/s eta 0:00:01\r\u001b[K     |████████████████████████▍       | 61kB 2.3MB/s eta 0:00:01\r\u001b[K     |████████████████████████████▍   | 71kB 2.5MB/s eta 0:00:01\r\u001b[K     |████████████████████████████████| 81kB 2.2MB/s \n",
            "\u001b[?25hRequirement already satisfied: scikit-learn>=0.20.0 in /usr/local/lib/python3.6/dist-packages (from category_encoders) (0.22.2.post1)\n",
            "Requirement already satisfied: scipy>=1.0.0 in /usr/local/lib/python3.6/dist-packages (from category_encoders) (1.4.1)\n",
            "Requirement already satisfied: pandas>=0.21.1 in /usr/local/lib/python3.6/dist-packages (from category_encoders) (1.0.5)\n",
            "Requirement already satisfied: numpy>=1.14.0 in /usr/local/lib/python3.6/dist-packages (from category_encoders) (1.18.5)\n",
            "Requirement already satisfied: statsmodels>=0.9.0 in /usr/local/lib/python3.6/dist-packages (from category_encoders) (0.10.2)\n",
            "Requirement already satisfied: patsy>=0.5.1 in /usr/local/lib/python3.6/dist-packages (from category_encoders) (0.5.1)\n",
            "Requirement already satisfied: joblib>=0.11 in /usr/local/lib/python3.6/dist-packages (from scikit-learn>=0.20.0->category_encoders) (0.16.0)\n",
            "Requirement already satisfied: pytz>=2017.2 in /usr/local/lib/python3.6/dist-packages (from pandas>=0.21.1->category_encoders) (2018.9)\n",
            "Requirement already satisfied: python-dateutil>=2.6.1 in /usr/local/lib/python3.6/dist-packages (from pandas>=0.21.1->category_encoders) (2.8.1)\n",
            "Requirement already satisfied: six in /usr/local/lib/python3.6/dist-packages (from patsy>=0.5.1->category_encoders) (1.15.0)\n",
            "Installing collected packages: category-encoders\n",
            "Successfully installed category-encoders-2.2.2\n"
          ],
          "name": "stdout"
        }
      ]
    },
    {
      "cell_type": "code",
      "metadata": {
        "id": "HI4OTO3QnFFz",
        "colab_type": "code",
        "colab": {
          "base_uri": "https://localhost:8080/",
          "height": 87
        },
        "outputId": "e4fc117f-fb31-464b-9822-7d8ea923f2ec"
      },
      "source": [
        "import category_encoders as ce\n",
        "cat_features = ['category', 'currency', 'country']\n",
        "\n",
        "# Create the encoder\n",
        "count_enc = ce.CountEncoder()\n",
        "\n",
        "# Transform the features, rename the columns with the _count suffix, and join to dataframe\n",
        "count_encoded = count_enc.fit_transform(ks[cat_features])\n",
        "data = data.join(count_encoded.add_suffix(\"_count\"))\n",
        "\n",
        "# Train a model \n",
        "train, valid, test = get_data_splits(data)\n",
        "train_model(train, valid)"
      ],
      "execution_count": null,
      "outputs": [
        {
          "output_type": "stream",
          "text": [
            "/usr/local/lib/python3.6/dist-packages/statsmodels/tools/_testing.py:19: FutureWarning: pandas.util.testing is deprecated. Use the functions in the public API at pandas.testing instead.\n",
            "  import pandas.util.testing as tm\n"
          ],
          "name": "stderr"
        },
        {
          "output_type": "stream",
          "text": [
            "Validation AUC score: 0.7486\n"
          ],
          "name": "stdout"
        }
      ]
    },
    {
      "cell_type": "markdown",
      "metadata": {
        "id": "GaLYxn0snljm",
        "colab_type": "text"
      },
      "source": [
        "Adding the count encoding features increase the validation score from 0.7467 to 0.7486, only a slight improvement."
      ]
    },
    {
      "cell_type": "markdown",
      "metadata": {
        "id": "zWTL1qG7nsYc",
        "colab_type": "text"
      },
      "source": [
        "**Target Encoding**\n",
        "\n",
        "Target encoding replaces a categorical value with the average value of the target for that value of the feature."
      ]
    },
    {
      "cell_type": "code",
      "metadata": {
        "id": "CmGFcDdqnzJd",
        "colab_type": "code",
        "colab": {
          "base_uri": "https://localhost:8080/",
          "height": 34
        },
        "outputId": "a492e343-2b99-485f-e4d5-cbbb241464d6"
      },
      "source": [
        "# Create the encoder\n",
        "target_enc = ce.TargetEncoder(cols=cat_features)\n",
        "target_enc.fit(train[cat_features], train['outcome'])\n",
        "\n",
        "# Transform the features, rename the columns with _target suffix, and join to dataframe\n",
        "train_TE = train.join(target_enc.transform(train[cat_features]).add_suffix('_target'))\n",
        "valid_TE = valid.join(target_enc.transform(valid[cat_features]).add_suffix('_target'))\n",
        "\n",
        "# Train a model\n",
        "train_model(train_TE, valid_TE)"
      ],
      "execution_count": null,
      "outputs": [
        {
          "output_type": "stream",
          "text": [
            "Validation AUC score: 0.7491\n"
          ],
          "name": "stdout"
        }
      ]
    },
    {
      "cell_type": "markdown",
      "metadata": {
        "id": "6Oz0xk3xn8AE",
        "colab_type": "text"
      },
      "source": [
        "The validation score is higher again, from 0.7467 to 0.7491."
      ]
    },
    {
      "cell_type": "markdown",
      "metadata": {
        "id": "214Wy7jRn-PP",
        "colab_type": "text"
      },
      "source": [
        "**CatBoost Encoding**\n",
        "\n",
        "Finally, we'll look at CatBoost encoding. This is similar to target encoding in that it's based on the target probablity for a given value. However with CatBoost, for each row, the target probability is calculated only from the rows before it."
      ]
    },
    {
      "cell_type": "code",
      "metadata": {
        "id": "Psvu5Sw3oFsa",
        "colab_type": "code",
        "colab": {
          "base_uri": "https://localhost:8080/",
          "height": 34
        },
        "outputId": "83d009e5-c0d2-41f1-a6d2-8de2e2ceabef"
      },
      "source": [
        "# Create the encoder\n",
        "target_enc = ce.CatBoostEncoder(cols=cat_features)\n",
        "target_enc.fit(train[cat_features], train['outcome'])\n",
        "\n",
        "# Transform the features, rename columns with _cb suffix, and join to dataframe\n",
        "train_CBE = train.join(target_enc.transform(train[cat_features]).add_suffix('_cb'))\n",
        "valid_CBE = valid.join(target_enc.transform(valid[cat_features]).add_suffix('_cb'))\n",
        "\n",
        "# Train a model\n",
        "train_model(train_CBE, valid_CBE)"
      ],
      "execution_count": null,
      "outputs": [
        {
          "output_type": "stream",
          "text": [
            "Validation AUC score: 0.7492\n"
          ],
          "name": "stdout"
        }
      ]
    },
    {
      "cell_type": "markdown",
      "metadata": {
        "id": "cbQstVIQoRds",
        "colab_type": "text"
      },
      "source": [
        "This does slightly better than target encoding."
      ]
    },
    {
      "cell_type": "markdown",
      "metadata": {
        "id": "jTG_qFSEr82X",
        "colab_type": "text"
      },
      "source": [
        "#Feature Generation"
      ]
    },
    {
      "cell_type": "code",
      "metadata": {
        "id": "J9ZXGa3DsHW3",
        "colab_type": "code",
        "colab": {}
      },
      "source": [
        "%matplotlib inline\n",
        "\n",
        "import matplotlib.pyplot as plt\n",
        "import numpy as np\n",
        "import pandas as pd\n",
        "from pandas.plotting import register_matplotlib_converters\n",
        "register_matplotlib_converters()\n",
        "from sklearn.preprocessing import LabelEncoder\n",
        "\n",
        "ks = pd.read_csv('ks-projects-201801.csv', parse_dates=['deadline', 'launched'])\n",
        "\n",
        "# Drop live projects\n",
        "ks = ks.query('state != \"live\"')\n",
        "\n",
        "# Add outcome column, \"successful\" == 1, others are 0\n",
        "ks = ks.assign(outcome=(ks['state'] == 'successful').astype(int))\n",
        "\n",
        "# Timestamp features\n",
        "ks = ks.assign(hour=ks.launched.dt.hour,\n",
        "               day=ks.launched.dt.day,\n",
        "               month=ks.launched.dt.month,\n",
        "               year=ks.launched.dt.year)\n",
        "\n",
        "# Label encoding\n",
        "cat_features = ['category', 'currency', 'country']\n",
        "encoder = LabelEncoder()\n",
        "encoded = ks[cat_features].apply(encoder.fit_transform)\n",
        "\n",
        "data_cols = ['goal', 'hour', 'day', 'month', 'year', 'outcome']\n",
        "baseline_data = ks[data_cols].join(encoded)"
      ],
      "execution_count": 1,
      "outputs": []
    },
    {
      "cell_type": "markdown",
      "metadata": {
        "id": "LYy193iB73VA",
        "colab_type": "text"
      },
      "source": [
        "**Interactions**\n",
        "\n",
        "One of the easiest ways to create new features is by combining categorical variables. "
      ]
    },
    {
      "cell_type": "code",
      "metadata": {
        "id": "w1gMpFTC76Xz",
        "colab_type": "code",
        "colab": {
          "base_uri": "https://localhost:8080/",
          "height": 118
        },
        "outputId": "b7b49764-4594-4444-bc6d-35e65a142889"
      },
      "source": [
        "interactions = ks['category'] + \"_\" + ks['country']\n",
        "print(interactions.head(5))"
      ],
      "execution_count": 2,
      "outputs": [
        {
          "output_type": "stream",
          "text": [
            "0            Poetry_GB\n",
            "1    Narrative Film_US\n",
            "2    Narrative Film_US\n",
            "3             Music_US\n",
            "4      Film & Video_US\n",
            "dtype: object\n"
          ],
          "name": "stdout"
        }
      ]
    },
    {
      "cell_type": "code",
      "metadata": {
        "id": "v7u80BXa8AKS",
        "colab_type": "code",
        "colab": {
          "base_uri": "https://localhost:8080/",
          "height": 195
        },
        "outputId": "459b7411-002c-44bb-b7d0-ed88d4f31d10"
      },
      "source": [
        "label_enc = LabelEncoder()\n",
        "data_interaction = baseline_data.assign(category_country=label_enc.fit_transform(interactions))\n",
        "data_interaction.head()"
      ],
      "execution_count": 3,
      "outputs": [
        {
          "output_type": "execute_result",
          "data": {
            "text/html": [
              "<div>\n",
              "<style scoped>\n",
              "    .dataframe tbody tr th:only-of-type {\n",
              "        vertical-align: middle;\n",
              "    }\n",
              "\n",
              "    .dataframe tbody tr th {\n",
              "        vertical-align: top;\n",
              "    }\n",
              "\n",
              "    .dataframe thead th {\n",
              "        text-align: right;\n",
              "    }\n",
              "</style>\n",
              "<table border=\"1\" class=\"dataframe\">\n",
              "  <thead>\n",
              "    <tr style=\"text-align: right;\">\n",
              "      <th></th>\n",
              "      <th>goal</th>\n",
              "      <th>hour</th>\n",
              "      <th>day</th>\n",
              "      <th>month</th>\n",
              "      <th>year</th>\n",
              "      <th>outcome</th>\n",
              "      <th>category</th>\n",
              "      <th>currency</th>\n",
              "      <th>country</th>\n",
              "      <th>category_country</th>\n",
              "    </tr>\n",
              "  </thead>\n",
              "  <tbody>\n",
              "    <tr>\n",
              "      <th>0</th>\n",
              "      <td>1000.0</td>\n",
              "      <td>12</td>\n",
              "      <td>11</td>\n",
              "      <td>8</td>\n",
              "      <td>2015</td>\n",
              "      <td>0</td>\n",
              "      <td>108</td>\n",
              "      <td>5</td>\n",
              "      <td>9</td>\n",
              "      <td>1900</td>\n",
              "    </tr>\n",
              "    <tr>\n",
              "      <th>1</th>\n",
              "      <td>30000.0</td>\n",
              "      <td>4</td>\n",
              "      <td>2</td>\n",
              "      <td>9</td>\n",
              "      <td>2017</td>\n",
              "      <td>0</td>\n",
              "      <td>93</td>\n",
              "      <td>13</td>\n",
              "      <td>22</td>\n",
              "      <td>1630</td>\n",
              "    </tr>\n",
              "    <tr>\n",
              "      <th>2</th>\n",
              "      <td>45000.0</td>\n",
              "      <td>0</td>\n",
              "      <td>12</td>\n",
              "      <td>1</td>\n",
              "      <td>2013</td>\n",
              "      <td>0</td>\n",
              "      <td>93</td>\n",
              "      <td>13</td>\n",
              "      <td>22</td>\n",
              "      <td>1630</td>\n",
              "    </tr>\n",
              "    <tr>\n",
              "      <th>3</th>\n",
              "      <td>5000.0</td>\n",
              "      <td>3</td>\n",
              "      <td>17</td>\n",
              "      <td>3</td>\n",
              "      <td>2012</td>\n",
              "      <td>0</td>\n",
              "      <td>90</td>\n",
              "      <td>13</td>\n",
              "      <td>22</td>\n",
              "      <td>1595</td>\n",
              "    </tr>\n",
              "    <tr>\n",
              "      <th>4</th>\n",
              "      <td>19500.0</td>\n",
              "      <td>8</td>\n",
              "      <td>4</td>\n",
              "      <td>7</td>\n",
              "      <td>2015</td>\n",
              "      <td>0</td>\n",
              "      <td>55</td>\n",
              "      <td>13</td>\n",
              "      <td>22</td>\n",
              "      <td>979</td>\n",
              "    </tr>\n",
              "  </tbody>\n",
              "</table>\n",
              "</div>"
            ],
            "text/plain": [
              "      goal  hour  day  month  ...  category  currency  country  category_country\n",
              "0   1000.0    12   11      8  ...       108         5        9              1900\n",
              "1  30000.0     4    2      9  ...        93        13       22              1630\n",
              "2  45000.0     0   12      1  ...        93        13       22              1630\n",
              "3   5000.0     3   17      3  ...        90        13       22              1595\n",
              "4  19500.0     8    4      7  ...        55        13       22               979\n",
              "\n",
              "[5 rows x 10 columns]"
            ]
          },
          "metadata": {
            "tags": []
          },
          "execution_count": 3
        }
      ]
    },
    {
      "cell_type": "markdown",
      "metadata": {
        "id": "ZclaPVlv8F2V",
        "colab_type": "text"
      },
      "source": [
        "**Number of projects in the last week**\n",
        "\n",
        "Next, we'll count the number of projects launched in the preceeding week for each record. "
      ]
    },
    {
      "cell_type": "code",
      "metadata": {
        "id": "ZtwKlw2c8KKS",
        "colab_type": "code",
        "colab": {
          "base_uri": "https://localhost:8080/",
          "height": 386
        },
        "outputId": "b0588dd6-63ac-44f0-97b4-f7adedbd86e7"
      },
      "source": [
        "# First, creating a Series with a timestamp index\n",
        "launched = pd.Series(ks.index, index=ks.launched, name=\"count_7_days\").sort_index()\n",
        "launched.head(20)"
      ],
      "execution_count": 4,
      "outputs": [
        {
          "output_type": "execute_result",
          "data": {
            "text/plain": [
              "launched\n",
              "1970-01-01 01:00:00     94579\n",
              "1970-01-01 01:00:00    319002\n",
              "1970-01-01 01:00:00    247913\n",
              "1970-01-01 01:00:00     48147\n",
              "1970-01-01 01:00:00     75397\n",
              "1970-01-01 01:00:00      2842\n",
              "1970-01-01 01:00:00    273779\n",
              "2009-04-21 21:02:48    169268\n",
              "2009-04-23 00:07:53    322000\n",
              "2009-04-24 21:52:03    138572\n",
              "2009-04-25 17:36:21    325391\n",
              "2009-04-27 14:10:39    122662\n",
              "2009-04-28 13:55:41    213711\n",
              "2009-04-29 02:04:21    345606\n",
              "2009-04-29 02:58:50    235255\n",
              "2009-04-29 04:37:37     98954\n",
              "2009-04-29 05:26:32    342226\n",
              "2009-04-29 06:43:44    275091\n",
              "2009-04-29 13:52:03    284115\n",
              "2009-04-29 22:08:13     32898\n",
              "Name: count_7_days, dtype: int64"
            ]
          },
          "metadata": {
            "tags": []
          },
          "execution_count": 4
        }
      ]
    },
    {
      "cell_type": "code",
      "metadata": {
        "id": "M70E2t0S8SX4",
        "colab_type": "code",
        "colab": {
          "base_uri": "https://localhost:8080/",
          "height": 650
        },
        "outputId": "f58bb356-a038-454d-8d5b-05de9c550b88"
      },
      "source": [
        "count_7_days = launched.rolling('7d').count() - 1\n",
        "print(count_7_days.head(20))\n",
        "\n",
        "# Ignore records with broken launch dates\n",
        "plt.plot(count_7_days[7:]);\n",
        "plt.title(\"Number of projects launched over periods of 7 days\");"
      ],
      "execution_count": 5,
      "outputs": [
        {
          "output_type": "stream",
          "text": [
            "launched\n",
            "1970-01-01 01:00:00     0.0\n",
            "1970-01-01 01:00:00     1.0\n",
            "1970-01-01 01:00:00     2.0\n",
            "1970-01-01 01:00:00     3.0\n",
            "1970-01-01 01:00:00     4.0\n",
            "1970-01-01 01:00:00     5.0\n",
            "1970-01-01 01:00:00     6.0\n",
            "2009-04-21 21:02:48     0.0\n",
            "2009-04-23 00:07:53     1.0\n",
            "2009-04-24 21:52:03     2.0\n",
            "2009-04-25 17:36:21     3.0\n",
            "2009-04-27 14:10:39     4.0\n",
            "2009-04-28 13:55:41     5.0\n",
            "2009-04-29 02:04:21     5.0\n",
            "2009-04-29 02:58:50     6.0\n",
            "2009-04-29 04:37:37     7.0\n",
            "2009-04-29 05:26:32     8.0\n",
            "2009-04-29 06:43:44     9.0\n",
            "2009-04-29 13:52:03    10.0\n",
            "2009-04-29 22:08:13    11.0\n",
            "Name: count_7_days, dtype: float64\n"
          ],
          "name": "stdout"
        },
        {
          "output_type": "display_data",
          "data": {
            "image/png": "[encoded data removed]",
            "text/plain": [
              "<Figure size 432x288 with 1 Axes>"
            ]
          },
          "metadata": {
            "tags": [],
            "needs_background": "light"
          }
        }
      ]
    },
    {
      "cell_type": "code",
      "metadata": {
        "id": "aDmfUzJK8ZFz",
        "colab_type": "code",
        "colab": {}
      },
      "source": [
        "count_7_days.index = launched.values\n",
        "count_7_days = count_7_days.reindex(ks.index)"
      ],
      "execution_count": 6,
      "outputs": []
    },
    {
      "cell_type": "code",
      "metadata": {
        "id": "7StF7QMW8aqt",
        "colab_type": "code",
        "colab": {
          "base_uri": "https://localhost:8080/",
          "height": 202
        },
        "outputId": "93bd7305-2d4f-48bc-c35a-7d72a8397ca2"
      },
      "source": [
        "count_7_days.head(10)"
      ],
      "execution_count": 7,
      "outputs": [
        {
          "output_type": "execute_result",
          "data": {
            "text/plain": [
              "0    1409.0\n",
              "1     957.0\n",
              "2     739.0\n",
              "3     907.0\n",
              "4    1429.0\n",
              "5    1284.0\n",
              "6    1119.0\n",
              "7    1391.0\n",
              "8    1043.0\n",
              "9    3199.0\n",
              "Name: count_7_days, dtype: float64"
            ]
          },
          "metadata": {
            "tags": []
          },
          "execution_count": 7
        }
      ]
    },
    {
      "cell_type": "code",
      "metadata": {
        "id": "t_1gB89i8f4k",
        "colab_type": "code",
        "colab": {
          "base_uri": "https://localhost:8080/",
          "height": 343
        },
        "outputId": "6065b823-3d4d-4ac3-d414-9b076b429e13"
      },
      "source": [
        "baseline_data.join(count_7_days).head(10)"
      ],
      "execution_count": 8,
      "outputs": [
        {
          "output_type": "execute_result",
          "data": {
            "text/html": [
              "<div>\n",
              "<style scoped>\n",
              "    .dataframe tbody tr th:only-of-type {\n",
              "        vertical-align: middle;\n",
              "    }\n",
              "\n",
              "    .dataframe tbody tr th {\n",
              "        vertical-align: top;\n",
              "    }\n",
              "\n",
              "    .dataframe thead th {\n",
              "        text-align: right;\n",
              "    }\n",
              "</style>\n",
              "<table border=\"1\" class=\"dataframe\">\n",
              "  <thead>\n",
              "    <tr style=\"text-align: right;\">\n",
              "      <th></th>\n",
              "      <th>goal</th>\n",
              "      <th>hour</th>\n",
              "      <th>day</th>\n",
              "      <th>month</th>\n",
              "      <th>year</th>\n",
              "      <th>outcome</th>\n",
              "      <th>category</th>\n",
              "      <th>currency</th>\n",
              "      <th>country</th>\n",
              "      <th>count_7_days</th>\n",
              "    </tr>\n",
              "  </thead>\n",
              "  <tbody>\n",
              "    <tr>\n",
              "      <th>0</th>\n",
              "      <td>1000.0</td>\n",
              "      <td>12</td>\n",
              "      <td>11</td>\n",
              "      <td>8</td>\n",
              "      <td>2015</td>\n",
              "      <td>0</td>\n",
              "      <td>108</td>\n",
              "      <td>5</td>\n",
              "      <td>9</td>\n",
              "      <td>1409.0</td>\n",
              "    </tr>\n",
              "    <tr>\n",
              "      <th>1</th>\n",
              "      <td>30000.0</td>\n",
              "      <td>4</td>\n",
              "      <td>2</td>\n",
              "      <td>9</td>\n",
              "      <td>2017</td>\n",
              "      <td>0</td>\n",
              "      <td>93</td>\n",
              "      <td>13</td>\n",
              "      <td>22</td>\n",
              "      <td>957.0</td>\n",
              "    </tr>\n",
              "    <tr>\n",
              "      <th>2</th>\n",
              "      <td>45000.0</td>\n",
              "      <td>0</td>\n",
              "      <td>12</td>\n",
              "      <td>1</td>\n",
              "      <td>2013</td>\n",
              "      <td>0</td>\n",
              "      <td>93</td>\n",
              "      <td>13</td>\n",
              "      <td>22</td>\n",
              "      <td>739.0</td>\n",
              "    </tr>\n",
              "    <tr>\n",
              "      <th>3</th>\n",
              "      <td>5000.0</td>\n",
              "      <td>3</td>\n",
              "      <td>17</td>\n",
              "      <td>3</td>\n",
              "      <td>2012</td>\n",
              "      <td>0</td>\n",
              "      <td>90</td>\n",
              "      <td>13</td>\n",
              "      <td>22</td>\n",
              "      <td>907.0</td>\n",
              "    </tr>\n",
              "    <tr>\n",
              "      <th>4</th>\n",
              "      <td>19500.0</td>\n",
              "      <td>8</td>\n",
              "      <td>4</td>\n",
              "      <td>7</td>\n",
              "      <td>2015</td>\n",
              "      <td>0</td>\n",
              "      <td>55</td>\n",
              "      <td>13</td>\n",
              "      <td>22</td>\n",
              "      <td>1429.0</td>\n",
              "    </tr>\n",
              "    <tr>\n",
              "      <th>5</th>\n",
              "      <td>50000.0</td>\n",
              "      <td>13</td>\n",
              "      <td>26</td>\n",
              "      <td>2</td>\n",
              "      <td>2016</td>\n",
              "      <td>1</td>\n",
              "      <td>123</td>\n",
              "      <td>13</td>\n",
              "      <td>22</td>\n",
              "      <td>1284.0</td>\n",
              "    </tr>\n",
              "    <tr>\n",
              "      <th>6</th>\n",
              "      <td>1000.0</td>\n",
              "      <td>18</td>\n",
              "      <td>1</td>\n",
              "      <td>12</td>\n",
              "      <td>2014</td>\n",
              "      <td>1</td>\n",
              "      <td>58</td>\n",
              "      <td>13</td>\n",
              "      <td>22</td>\n",
              "      <td>1119.0</td>\n",
              "    </tr>\n",
              "    <tr>\n",
              "      <th>7</th>\n",
              "      <td>25000.0</td>\n",
              "      <td>20</td>\n",
              "      <td>1</td>\n",
              "      <td>2</td>\n",
              "      <td>2016</td>\n",
              "      <td>0</td>\n",
              "      <td>41</td>\n",
              "      <td>13</td>\n",
              "      <td>22</td>\n",
              "      <td>1391.0</td>\n",
              "    </tr>\n",
              "    <tr>\n",
              "      <th>8</th>\n",
              "      <td>125000.0</td>\n",
              "      <td>18</td>\n",
              "      <td>24</td>\n",
              "      <td>4</td>\n",
              "      <td>2014</td>\n",
              "      <td>0</td>\n",
              "      <td>113</td>\n",
              "      <td>13</td>\n",
              "      <td>22</td>\n",
              "      <td>1043.0</td>\n",
              "    </tr>\n",
              "    <tr>\n",
              "      <th>9</th>\n",
              "      <td>65000.0</td>\n",
              "      <td>21</td>\n",
              "      <td>11</td>\n",
              "      <td>7</td>\n",
              "      <td>2014</td>\n",
              "      <td>0</td>\n",
              "      <td>39</td>\n",
              "      <td>13</td>\n",
              "      <td>22</td>\n",
              "      <td>3199.0</td>\n",
              "    </tr>\n",
              "  </tbody>\n",
              "</table>\n",
              "</div>"
            ],
            "text/plain": [
              "       goal  hour  day  month  ...  category  currency  country  count_7_days\n",
              "0    1000.0    12   11      8  ...       108         5        9        1409.0\n",
              "1   30000.0     4    2      9  ...        93        13       22         957.0\n",
              "2   45000.0     0   12      1  ...        93        13       22         739.0\n",
              "3    5000.0     3   17      3  ...        90        13       22         907.0\n",
              "4   19500.0     8    4      7  ...        55        13       22        1429.0\n",
              "5   50000.0    13   26      2  ...       123        13       22        1284.0\n",
              "6    1000.0    18    1     12  ...        58        13       22        1119.0\n",
              "7   25000.0    20    1      2  ...        41        13       22        1391.0\n",
              "8  125000.0    18   24      4  ...       113        13       22        1043.0\n",
              "9   65000.0    21   11      7  ...        39        13       22        3199.0\n",
              "\n",
              "[10 rows x 10 columns]"
            ]
          },
          "metadata": {
            "tags": []
          },
          "execution_count": 8
        }
      ]
    },
    {
      "cell_type": "markdown",
      "metadata": {
        "id": "gwLSjbR08lh8",
        "colab_type": "text"
      },
      "source": [
        "**Time since the last project in the same category**"
      ]
    },
    {
      "cell_type": "code",
      "metadata": {
        "id": "xPJ0o75K8nAy",
        "colab_type": "code",
        "colab": {
          "base_uri": "https://localhost:8080/",
          "height": 639
        },
        "outputId": "b9403e9e-668f-42d3-d5af-83f72b2a9cf9"
      },
      "source": [
        "def time_since_last_project(series):\n",
        "    # Return the time in hours\n",
        "    return series.diff().dt.total_seconds() / 3600.\n",
        "\n",
        "df = ks[['category', 'launched']].sort_values('launched')\n",
        "timedeltas = df.groupby('category').transform(time_since_last_project)\n",
        "timedeltas.head(20)"
      ],
      "execution_count": 9,
      "outputs": [
        {
          "output_type": "execute_result",
          "data": {
            "text/html": [
              "<div>\n",
              "<style scoped>\n",
              "    .dataframe tbody tr th:only-of-type {\n",
              "        vertical-align: middle;\n",
              "    }\n",
              "\n",
              "    .dataframe tbody tr th {\n",
              "        vertical-align: top;\n",
              "    }\n",
              "\n",
              "    .dataframe thead th {\n",
              "        text-align: right;\n",
              "    }\n",
              "</style>\n",
              "<table border=\"1\" class=\"dataframe\">\n",
              "  <thead>\n",
              "    <tr style=\"text-align: right;\">\n",
              "      <th></th>\n",
              "      <th>launched</th>\n",
              "    </tr>\n",
              "  </thead>\n",
              "  <tbody>\n",
              "    <tr>\n",
              "      <th>94579</th>\n",
              "      <td>NaN</td>\n",
              "    </tr>\n",
              "    <tr>\n",
              "      <th>319002</th>\n",
              "      <td>NaN</td>\n",
              "    </tr>\n",
              "    <tr>\n",
              "      <th>247913</th>\n",
              "      <td>NaN</td>\n",
              "    </tr>\n",
              "    <tr>\n",
              "      <th>48147</th>\n",
              "      <td>NaN</td>\n",
              "    </tr>\n",
              "    <tr>\n",
              "      <th>75397</th>\n",
              "      <td>NaN</td>\n",
              "    </tr>\n",
              "    <tr>\n",
              "      <th>2842</th>\n",
              "      <td>0.000000</td>\n",
              "    </tr>\n",
              "    <tr>\n",
              "      <th>273779</th>\n",
              "      <td>NaN</td>\n",
              "    </tr>\n",
              "    <tr>\n",
              "      <th>169268</th>\n",
              "      <td>NaN</td>\n",
              "    </tr>\n",
              "    <tr>\n",
              "      <th>322000</th>\n",
              "      <td>NaN</td>\n",
              "    </tr>\n",
              "    <tr>\n",
              "      <th>138572</th>\n",
              "      <td>NaN</td>\n",
              "    </tr>\n",
              "    <tr>\n",
              "      <th>325391</th>\n",
              "      <td>NaN</td>\n",
              "    </tr>\n",
              "    <tr>\n",
              "      <th>122662</th>\n",
              "      <td>137.130833</td>\n",
              "    </tr>\n",
              "    <tr>\n",
              "      <th>213711</th>\n",
              "      <td>NaN</td>\n",
              "    </tr>\n",
              "    <tr>\n",
              "      <th>345606</th>\n",
              "      <td>145.941111</td>\n",
              "    </tr>\n",
              "    <tr>\n",
              "      <th>235255</th>\n",
              "      <td>NaN</td>\n",
              "    </tr>\n",
              "    <tr>\n",
              "      <th>98954</th>\n",
              "      <td>344715.626944</td>\n",
              "    </tr>\n",
              "    <tr>\n",
              "      <th>342226</th>\n",
              "      <td>NaN</td>\n",
              "    </tr>\n",
              "    <tr>\n",
              "      <th>275091</th>\n",
              "      <td>NaN</td>\n",
              "    </tr>\n",
              "    <tr>\n",
              "      <th>284115</th>\n",
              "      <td>NaN</td>\n",
              "    </tr>\n",
              "    <tr>\n",
              "      <th>32898</th>\n",
              "      <td>NaN</td>\n",
              "    </tr>\n",
              "  </tbody>\n",
              "</table>\n",
              "</div>"
            ],
            "text/plain": [
              "             launched\n",
              "94579             NaN\n",
              "319002            NaN\n",
              "247913            NaN\n",
              "48147             NaN\n",
              "75397             NaN\n",
              "2842         0.000000\n",
              "273779            NaN\n",
              "169268            NaN\n",
              "322000            NaN\n",
              "138572            NaN\n",
              "325391            NaN\n",
              "122662     137.130833\n",
              "213711            NaN\n",
              "345606     145.941111\n",
              "235255            NaN\n",
              "98954   344715.626944\n",
              "342226            NaN\n",
              "275091            NaN\n",
              "284115            NaN\n",
              "32898             NaN"
            ]
          },
          "metadata": {
            "tags": []
          },
          "execution_count": 9
        }
      ]
    },
    {
      "cell_type": "code",
      "metadata": {
        "id": "qlOL1VNo8tIo",
        "colab_type": "code",
        "colab": {
          "base_uri": "https://localhost:8080/",
          "height": 639
        },
        "outputId": "46b6c295-eb45-4afa-c2b9-5aa345da8569"
      },
      "source": [
        "# Final time since last project\n",
        "timedeltas = timedeltas.fillna(timedeltas.median()).reindex(baseline_data.index)\n",
        "timedeltas.head(20)"
      ],
      "execution_count": 10,
      "outputs": [
        {
          "output_type": "execute_result",
          "data": {
            "text/html": [
              "<div>\n",
              "<style scoped>\n",
              "    .dataframe tbody tr th:only-of-type {\n",
              "        vertical-align: middle;\n",
              "    }\n",
              "\n",
              "    .dataframe tbody tr th {\n",
              "        vertical-align: top;\n",
              "    }\n",
              "\n",
              "    .dataframe thead th {\n",
              "        text-align: right;\n",
              "    }\n",
              "</style>\n",
              "<table border=\"1\" class=\"dataframe\">\n",
              "  <thead>\n",
              "    <tr style=\"text-align: right;\">\n",
              "      <th></th>\n",
              "      <th>launched</th>\n",
              "    </tr>\n",
              "  </thead>\n",
              "  <tbody>\n",
              "    <tr>\n",
              "      <th>0</th>\n",
              "      <td>18.606111</td>\n",
              "    </tr>\n",
              "    <tr>\n",
              "      <th>1</th>\n",
              "      <td>5.592778</td>\n",
              "    </tr>\n",
              "    <tr>\n",
              "      <th>2</th>\n",
              "      <td>1.313611</td>\n",
              "    </tr>\n",
              "    <tr>\n",
              "      <th>3</th>\n",
              "      <td>0.635000</td>\n",
              "    </tr>\n",
              "    <tr>\n",
              "      <th>4</th>\n",
              "      <td>16.661389</td>\n",
              "    </tr>\n",
              "    <tr>\n",
              "      <th>5</th>\n",
              "      <td>2.629722</td>\n",
              "    </tr>\n",
              "    <tr>\n",
              "      <th>6</th>\n",
              "      <td>0.367500</td>\n",
              "    </tr>\n",
              "    <tr>\n",
              "      <th>7</th>\n",
              "      <td>12.286111</td>\n",
              "    </tr>\n",
              "    <tr>\n",
              "      <th>8</th>\n",
              "      <td>14.243611</td>\n",
              "    </tr>\n",
              "    <tr>\n",
              "      <th>9</th>\n",
              "      <td>0.174722</td>\n",
              "    </tr>\n",
              "    <tr>\n",
              "      <th>10</th>\n",
              "      <td>1.372222</td>\n",
              "    </tr>\n",
              "    <tr>\n",
              "      <th>11</th>\n",
              "      <td>8.524444</td>\n",
              "    </tr>\n",
              "    <tr>\n",
              "      <th>12</th>\n",
              "      <td>0.015833</td>\n",
              "    </tr>\n",
              "    <tr>\n",
              "      <th>13</th>\n",
              "      <td>9.884444</td>\n",
              "    </tr>\n",
              "    <tr>\n",
              "      <th>14</th>\n",
              "      <td>1.725556</td>\n",
              "    </tr>\n",
              "    <tr>\n",
              "      <th>15</th>\n",
              "      <td>3.806111</td>\n",
              "    </tr>\n",
              "    <tr>\n",
              "      <th>16</th>\n",
              "      <td>2.654167</td>\n",
              "    </tr>\n",
              "    <tr>\n",
              "      <th>17</th>\n",
              "      <td>26.531667</td>\n",
              "    </tr>\n",
              "    <tr>\n",
              "      <th>18</th>\n",
              "      <td>12.273611</td>\n",
              "    </tr>\n",
              "    <tr>\n",
              "      <th>19</th>\n",
              "      <td>9.288889</td>\n",
              "    </tr>\n",
              "  </tbody>\n",
              "</table>\n",
              "</div>"
            ],
            "text/plain": [
              "     launched\n",
              "0   18.606111\n",
              "1    5.592778\n",
              "2    1.313611\n",
              "3    0.635000\n",
              "4   16.661389\n",
              "5    2.629722\n",
              "6    0.367500\n",
              "7   12.286111\n",
              "8   14.243611\n",
              "9    0.174722\n",
              "10   1.372222\n",
              "11   8.524444\n",
              "12   0.015833\n",
              "13   9.884444\n",
              "14   1.725556\n",
              "15   3.806111\n",
              "16   2.654167\n",
              "17  26.531667\n",
              "18  12.273611\n",
              "19   9.288889"
            ]
          },
          "metadata": {
            "tags": []
          },
          "execution_count": 10
        }
      ]
    },
    {
      "cell_type": "markdown",
      "metadata": {
        "id": "z8gptl5F8xg6",
        "colab_type": "text"
      },
      "source": [
        "**Transforming numerical features**"
      ]
    },
    {
      "cell_type": "code",
      "metadata": {
        "id": "sr7raCXv8zFx",
        "colab_type": "code",
        "colab": {
          "base_uri": "https://localhost:8080/",
          "height": 281
        },
        "outputId": "96d16d06-95e1-4e1b-aac8-6d6ddcf68682"
      },
      "source": [
        "plt.hist(ks.goal, range=(0, 100000), bins=50);\n",
        "plt.title('Goal');"
      ],
      "execution_count": 11,
      "outputs": [
        {
          "output_type": "display_data",
          "data": {
            "image/png": "[encoded data removed]",
            "text/plain": [
              "<Figure size 432x288 with 1 Axes>"
            ]
          },
          "metadata": {
            "tags": [],
            "needs_background": "light"
          }
        }
      ]
    },
    {
      "cell_type": "code",
      "metadata": {
        "id": "sXq04KPr85zZ",
        "colab_type": "code",
        "colab": {
          "base_uri": "https://localhost:8080/",
          "height": 281
        },
        "outputId": "2a260e86-2079-4868-c2eb-7142bd4953b5"
      },
      "source": [
        "plt.hist(np.sqrt(ks.goal), range=(0, 400), bins=50);\n",
        "plt.title('Sqrt(Goal)');"
      ],
      "execution_count": 12,
      "outputs": [
        {
          "output_type": "display_data",
          "data": {
            "image/png": "[encoded data removed]",
            "text/plain": [
              "<Figure size 432x288 with 1 Axes>"
            ]
          },
          "metadata": {
            "tags": [],
            "needs_background": "light"
          }
        }
      ]
    },
    {
      "cell_type": "code",
      "metadata": {
        "id": "ON-_Tr7t8-NL",
        "colab_type": "code",
        "colab": {
          "base_uri": "https://localhost:8080/",
          "height": 281
        },
        "outputId": "59d3e596-d4ae-4e4a-a4ac-351b6c8e4a84"
      },
      "source": [
        "plt.hist(np.log(ks.goal), range=(0, 25), bins=50);\n",
        "plt.title('Log(Goal)');"
      ],
      "execution_count": 13,
      "outputs": [
        {
          "output_type": "display_data",
          "data": {
            "image/png": "[encoded data removed]",
            "text/plain": [
              "<Figure size 432x288 with 1 Axes>"
            ]
          },
          "metadata": {
            "tags": [],
            "needs_background": "light"
          }
        }
      ]
    },
    {
      "cell_type": "markdown",
      "metadata": {
        "id": "68rFr5079HUV",
        "colab_type": "text"
      },
      "source": [
        "The log transformation won't help our model since tree-based models are scale invariant. However, this should help if we had a linear model or neural network.\n",
        "\n",
        "Other transformations include squares and other powers, exponentials, etc. These might help the model discriminate, like the kernel trick for SVMs. Again, it takes a bit of experimentation to see what works. One method is to create a bunch of new features and later choose the best ones with feature selection algorithms."
      ]
    }
  ]
}